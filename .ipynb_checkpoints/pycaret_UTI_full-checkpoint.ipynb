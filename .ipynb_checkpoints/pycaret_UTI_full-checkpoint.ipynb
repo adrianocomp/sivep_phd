{
 "cells": [
  {
   "cell_type": "code",
   "execution_count": null,
   "id": "722be4ff-9c7f-48cc-be61-a5ba12e19453",
   "metadata": {},
   "outputs": [],
   "source": [
    "import pandas as pd\n",
    "import numpy as np\n",
    "df = pd.read_csv(\"bases_de_dados/Sivep/bases_novas/not_encoded/uti/sivep_kids_atualizado_not_encoded_uti_full.csv\")\n",
    "df['UTI'] = df['UTI'].map({'nao':'nao', 'sim':'sim', 'ignorado':'nao'})\n",
    "df['Doses_vacina'] = df['Doses_vacina'].map({'zero': 'zero', 'uma':'uma', 'duas':'duas', 'tres':'tres','missing':'zero'})"
   ]
  }
 ],
 "metadata": {
  "kernelspec": {
   "display_name": "Python 3 (ipykernel)",
   "language": "python",
   "name": "python3"
  },
  "language_info": {
   "codemirror_mode": {
    "name": "ipython",
    "version": 3
   },
   "file_extension": ".py",
   "mimetype": "text/x-python",
   "name": "python",
   "nbconvert_exporter": "python",
   "pygments_lexer": "ipython3",
   "version": "3.10.13"
  }
 },
 "nbformat": 4,
 "nbformat_minor": 5
}
