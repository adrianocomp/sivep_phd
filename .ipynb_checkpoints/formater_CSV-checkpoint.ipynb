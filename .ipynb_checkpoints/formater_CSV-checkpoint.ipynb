{
 "cells": [
  {
   "cell_type": "code",
   "execution_count": 1,
   "id": "bc9673c4-1e29-484f-8246-5c29fb33976d",
   "metadata": {
    "tags": []
   },
   "outputs": [],
   "source": [
    "import pandas as pd\n",
    "import numpy as np\n",
    "df = pd.read_csv(\"bases_de_dados/Sivep/bases_novas/sivep_kids_atualizado.csv\")"
   ]
  },
  {
   "cell_type": "code",
   "execution_count": 2,
   "id": "32c3b067-31b3-49e5-902d-a2d996ad8ebd",
   "metadata": {
    "tags": []
   },
   "outputs": [],
   "source": [
    "df.drop(df[df['gender'] == \"missing\"].index, inplace = True)\n",
    "df.drop(df[df['etnia'] == \"missing\"].index, inplace = True)\n",
    "df.drop(df[df['Oxygen_saturation_reduced'] == \"missing\"].index, inplace = True)\n",
    "#df.drop(df[df['death'] == \"missing\"].index, inplace = True)\n",
    "df.drop(df[df['codigoRecebeuVacina'] == \"unavailable\"].index, inplace = True)\n",
    "df.drop(df[df['codigoRecebeuVacina'] == \"ignorado\"].index, inplace = True)\n",
    "df.drop(df[df['Oxygen_saturation_reduced'] == \"ignorado\"].index, inplace = True)\n",
    "df.drop(df[df['outcome_final_SIVEP'] == \"in-hospital\"].index, inplace = True)\n"
   ]
  },
  {
   "cell_type": "code",
   "execution_count": 3,
   "id": "c12188da-dd63-4f0e-ad3a-2ee0fc0d7fdf",
   "metadata": {
    "tags": []
   },
   "outputs": [
    {
     "data": {
      "text/plain": [
       "nao             19670\n",
       "uma              3512\n",
       "duas              757\n",
       "tres ou mais      158\n",
       "Name: comorbidades_cat, dtype: int64"
      ]
     },
     "execution_count": 3,
     "metadata": {},
     "output_type": "execute_result"
    }
   ],
   "source": [
    "df['comorbidades_cat'].value_counts()"
   ]
  },
  {
   "cell_type": "code",
   "execution_count": 100,
   "id": "8cd85d13-7172-4cc3-bbd9-cd6f747c02b3",
   "metadata": {
    "tags": []
   },
   "outputs": [],
   "source": [
    "df['gender'] = df['gender'].map({'male':0,'female':1})\n",
    "df['comorbidades_cat'] = df['comorbidades_cat'].map({'nao':0,'uma':1,'duas':2,'tres ou mais':3})\n",
    "#df['death'] = df['death'].map({'nao':0,'sim':1})\n",
    "df['codigoRecebeuVacina'] = df['codigoRecebeuVacina'].map({'nao':0,'sim':1})\n",
    "df.drop(df[df['Doses_vacina'] == \"missing\"].index, inplace = True)\n",
    "df['Doses_vacina'] = df['Doses_vacina'].map({'zero':0,'uma':1,'duas':2,'tres':3})\n",
    "df['comorbidades_dic'] = df['comorbidades_dic'].map({'nao':0,'sim':1})\n",
    "df['Oxygen_saturation_reduced'] = df['Oxygen_saturation_reduced'].map({'nao':0,'sim':1})\n",
    "df['fever'] = df['fever'].map({'nao':0,'sim':1})\n",
    "df['cough'] = df['cough'].map({'nao':0,'sim':1})\n",
    "df['dyspnea'] = df['dyspnea'].map({'nao':0,'sim':1})\n",
    "df['idade_cat_3'] = df['idade_cat_3'].map({'<2':0,'2-11':1, '12-17':2})\n",
    "df['idade_cat_4'] = df['idade_cat_4'].map({'<2':0,'2-4':1, '5-11':2, '12-17':3})\n",
    "df['etnia'] = df['etnia'].map({'Brown':0, 'White':1, 'Indigenous':2, 'Black':3, 'Asian':4})\n",
    "df['region'] = df['region'].map({'Northeast':0, 'South':1, 'Southeast':2, 'North':3, 'Central_West':4})\n",
    "df['Virus_strain'] = df['Virus_strain'].map({'gamma':0, 'delta':1, 'omicron':2})\n",
    "df['nosocomial'] = df['nosocomial'].map({'nao':0, 'sim':1})\n",
    "df['Doses_vacina'] = df['Doses_vacina'].map({'zero': 'zero', 'uma':'uma', 'duas':'duas', 'tres':'tres','missing':'zero'})"
   ]
  },
  {
   "cell_type": "code",
   "execution_count": 102,
   "id": "76f0eb5f-2e4f-416e-871f-a67af0efc8c5",
   "metadata": {
    "tags": []
   },
   "outputs": [],
   "source": [
    "df = df.replace({'sim': 1, 'nao': 0})"
   ]
  },
  {
   "cell_type": "code",
   "execution_count": 88,
   "id": "5d04d9bb-cf92-47ed-ac17-a4403cbe7342",
   "metadata": {
    "tags": []
   },
   "outputs": [
    {
     "data": {
      "text/plain": [
       "outcome_final_SIVEP\n",
       "discharge      20497\n",
       "in-hospital     1828\n",
       "death           1504\n",
       "Name: count, dtype: int64"
      ]
     },
     "execution_count": 88,
     "metadata": {},
     "output_type": "execute_result"
    }
   ],
   "source": [
    "df['outcome_final_SIVEP'].value_counts()"
   ]
  },
  {
   "cell_type": "code",
   "execution_count": 104,
   "id": "fb81ea33-28d9-46d5-9ae7-e8228fff07f0",
   "metadata": {
    "tags": []
   },
   "outputs": [],
   "source": [
    "df['outcome_final_SIVEP'] = df['outcome_final_SIVEP'].map({'discharge':0, 'death':1, 'in-hospital':2})"
   ]
  },
  {
   "cell_type": "code",
   "execution_count": 105,
   "id": "995f423f-2867-4f99-882a-3656695aba54",
   "metadata": {
    "tags": []
   },
   "outputs": [],
   "source": [
    "df['outcome_geral_severe'] = df['outcome_geral_severe'].map({'mild/moderate':0, 'severe':1})"
   ]
  },
  {
   "cell_type": "code",
   "execution_count": 106,
   "id": "0d82028b-0829-494c-8071-27c86023ebb8",
   "metadata": {
    "tags": []
   },
   "outputs": [],
   "source": [
    "df['UTI'] = df['UTI'].map({0:0, 1:1, 'ignorado':0})"
   ]
  },
  {
   "cell_type": "code",
   "execution_count": 107,
   "id": "3210152e-4671-4366-8f91-9e9ddc9fcdbc",
   "metadata": {
    "tags": []
   },
   "outputs": [
    {
     "data": {
      "text/plain": [
       "comorbidades_cat\n",
       "0    19473\n",
       "1     3452\n",
       "2      751\n",
       "3      153\n",
       "Name: count, dtype: int64"
      ]
     },
     "execution_count": 107,
     "metadata": {},
     "output_type": "execute_result"
    }
   ],
   "source": [
    "df['comorbidades_cat'].value_counts()"
   ]
  },
  {
   "cell_type": "code",
   "execution_count": 108,
   "id": "a58b2947-b0e2-4354-846f-4f77f7c5c473",
   "metadata": {
    "tags": []
   },
   "outputs": [],
   "source": [
    "df['suport_vent'] = df['suport_vent'].map({0:0, 'ignorado':0, 'nao_invasivo':1, 'invasivo':2})"
   ]
  },
  {
   "cell_type": "code",
   "execution_count": 6,
   "id": "905466eb-5ec9-4acf-8d08-634c6795136e",
   "metadata": {
    "tags": []
   },
   "outputs": [
    {
     "name": "stdout",
     "output_type": "stream",
     "text": [
      "<class 'pandas.core.frame.DataFrame'>\n",
      "Int64Index: 24097 entries, 9 to 56328\n",
      "Data columns (total 43 columns):\n",
      " #   Column                     Non-Null Count  Dtype  \n",
      "---  ------                     --------------  -----  \n",
      " 0   gender                     24097 non-null  object \n",
      " 1   idade_anos                 24097 non-null  float64\n",
      " 2   idade_cat_3                24097 non-null  object \n",
      " 3   idade_cat_4                24097 non-null  object \n",
      " 4   etnia                      24097 non-null  object \n",
      " 5   region                     24097 non-null  object \n",
      " 6   Virus_strain               24097 non-null  object \n",
      " 7   dyspnea                    24097 non-null  object \n",
      " 8   fever                      24097 non-null  object \n",
      " 9   cough                      24097 non-null  object \n",
      " 10  odynophagia                24097 non-null  object \n",
      " 11  diarrhea                   24097 non-null  object \n",
      " 12  vomit                      24097 non-null  object \n",
      " 13  abdominal_Pain             24097 non-null  object \n",
      " 14  ageusia                    24097 non-null  object \n",
      " 15  anosmia                    24097 non-null  object \n",
      " 16  REspDistress               24097 non-null  object \n",
      " 17  Oxygen_saturation_reduced  24097 non-null  object \n",
      " 18  diabetes_mellitus          24097 non-null  object \n",
      " 19  obesity                    24097 non-null  object \n",
      " 20  cardiology                 24097 non-null  object \n",
      " 21  pulmonary                  24097 non-null  object \n",
      " 22  hypertension               24097 non-null  object \n",
      " 23  immunesupression           24097 non-null  object \n",
      " 24  renal                      24097 non-null  object \n",
      " 25  asthma                     24097 non-null  object \n",
      " 26  comorbidades_total         24097 non-null  float64\n",
      " 27  comorbidades_dic           24097 non-null  object \n",
      " 28  comorbidades_cat           24097 non-null  object \n",
      " 29  outcome_final_SIVEP        24097 non-null  object \n",
      " 30  outcome_geral_severe       24097 non-null  object \n",
      " 31  UTI                        24097 non-null  object \n",
      " 32  suport_vent                24097 non-null  object \n",
      " 33  Tempo_desfecho             24097 non-null  float64\n",
      " 34  codigoRecebeuVacina        24097 non-null  object \n",
      " 35  Doses_vacina               24097 non-null  object \n",
      " 36  hematology                 24097 non-null  object \n",
      " 37  neurology                  24097 non-null  object \n",
      " 38  oncology                   24097 non-null  object \n",
      " 39  Transplant                 24097 non-null  object \n",
      " 40  sind_down                  24097 non-null  object \n",
      " 41  syndrome                   24097 non-null  object \n",
      " 42  nosocomial                 24097 non-null  object \n",
      "dtypes: float64(3), object(40)\n",
      "memory usage: 8.1+ MB\n"
     ]
    }
   ],
   "source": [
    "df.info()"
   ]
  },
  {
   "cell_type": "code",
   "execution_count": 7,
   "id": "00036c30-1e46-4cb2-ba1d-46409df8d2c0",
   "metadata": {},
   "outputs": [],
   "source": [
    "df.to_csv(\"bases_de_dados/Sivep/bases_novas/sivep_kids_atualizado_not_encoded.csv\")"
   ]
  },
  {
   "cell_type": "code",
   "execution_count": null,
   "id": "43b0f821-6952-43e3-8894-b970f3c14c2a",
   "metadata": {},
   "outputs": [],
   "source": []
  }
 ],
 "metadata": {
  "kernelspec": {
   "display_name": "Python 3 (ipykernel)",
   "language": "python",
   "name": "python3"
  },
  "language_info": {
   "codemirror_mode": {
    "name": "ipython",
    "version": 3
   },
   "file_extension": ".py",
   "mimetype": "text/x-python",
   "name": "python",
   "nbconvert_exporter": "python",
   "pygments_lexer": "ipython3",
   "version": "3.10.13"
  }
 },
 "nbformat": 4,
 "nbformat_minor": 5
}
